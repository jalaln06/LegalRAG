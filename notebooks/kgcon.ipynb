{
 "cells": [
  {
   "cell_type": "code",
   "execution_count": 32,
   "metadata": {
    "id": "umO9QQy4ca3L"
   },
   "outputs": [],
   "source": [
    "extraction_prompt = \"\"\"You are a network graph maker with legal expertise who extracts terms and their relations from a given context. Your answer should help answer questions about one of the following themes:\n",
    "You are provided with a context chunk (delimited by ```) Your task is to extract the ontology \n",
    "of terms mentioned in the given context. These terms should help answer questions on following themes:\n",
    "    Document Name', 'Parties', 'Agreement Date', 'Effective Date', 'Expiration Date',\n",
    "    Renewal Term', 'Notice Period To Terminate Renewal', 'Governing Law',\n",
    "    Most Favored Nation', 'Competitive Restriction Exception', 'Non-Compete',\n",
    "    Exclusivity', 'No-Solicit Of Customers', 'No-Solicit Of Employees',\n",
    "    Non-Disparagement', 'Termination For Convenience', 'Rofr/Rofo/Rofn',\n",
    "    Change Of Control', 'Anti-Assignment', 'Revenue/Profit Sharing', 'Price Restrictions',\n",
    "    Minimum Commitment', 'Volume Restriction', 'Ip Ownership Assignment',\n",
    "    Joint Ip Ownership', 'License Grant', 'Non-Transferable License',\n",
    "    Affiliate License-Licensor', 'Affiliate License-Licensee',\n",
    "    Unlimited/All-You-Can-Eat-License', 'Irrevocable Or Perpetual License',\n",
    "    Source Code Escrow', 'Post-Termination Services', 'Audit Rights',\n",
    "    Uncapped Liability', 'Cap On Liability', 'Liquidated Damages',\n",
    "    Warranty Duration', 'Insurance', 'Covenant Not To Sue', 'Third Party Beneficiary'\n",
    "Thought 1: While traversing through each sentence, Think about the key terms mentioned in it.\n",
    "    Terms may include object, entity, location, organization, person, \n",
    "    condition, acronym, documents, service, concept, etc.\n",
    "    Terms should be as atomistic as possible\n",
    "Thought 2: Think about how these terms can have one on one relation with other terms.\n",
    "    Terms that are mentioned in the same sentence or the same paragraph are typically related to each other.\n",
    "    Terms can be related to many other terms\n",
    "Thought 3: Find out the relation between each such related pair of terms. \n",
    "Format your output as a list of knowledge triplets in the form of (subject, predicate, object) . Each element of the list contains a pair of terms\n",
    "Don't write anything else except for extracted triplets and the relation between them, like the following: \n",
    "Text: Alice is Bob's mother.\n",
    "Triplets:\\n(Alice, is mother of, Bob)\n",
    "Context: Philz is a coffee shop founded in Berkeley in 1982.\n",
    "Triplets:\n",
    "(Philz, is, coffee shop)\n",
    "(Philz, founded in, Berkeley)\n",
    "(Philz, founded in, 1982)\n",
    "---------------------\n",
    "context: {text}\n",
    "Triplets:\n",
    "\n",
    "\"\"\""
   ]
  },
  {
   "cell_type": "code",
   "execution_count": null,
   "metadata": {
    "id": "umO9QQy4ca3L"
   },
   "outputs": [],
   "source": [
    "import logging\n",
    "import sys\n",
    "\n",
    "from llama_index.llms.ollama import Ollama\n",
    "\n",
    "logging.basicConfig(stream=sys.stdout, level=logging.INFO)"
   ]
  },
  {
   "cell_type": "code",
   "execution_count": 5,
   "metadata": {
    "id": "jvG9_V11c04m"
   },
   "outputs": [],
   "source": [
    "from llama_index.core import SimpleDirectoryReader, KnowledgeGraphIndex\n",
    "from llama_index.core.graph_stores import SimpleGraphStore\n",
    "from llama_index.core import Settings\n",
    "from IPython.display import Markdown, display"
   ]
  },
  {
   "cell_type": "code",
   "execution_count": 14,
   "metadata": {
    "id": "zEt9g7fCc2JR"
   },
   "outputs": [],
   "source": [
    "documents = SimpleDirectoryReader(\n",
    "    \"data_test\"\n",
    ").load_data()"
   ]
  },
  {
   "cell_type": "code",
   "execution_count": 19,
   "metadata": {
    "id": "TomoASZWfQ11"
   },
   "outputs": [],
   "source": [
    "from llama_index.embeddings.ollama import OllamaEmbedding\n",
    "\n",
    "llm = Ollama(model=\"llama3\", request_timeout=120.0)\n",
    "Settings.llm = llm\n",
    "Settings.chunk_size = 1024\n",
    "ollama_embedding = OllamaEmbedding(\n",
    "    model_name=\"llama3\",\n",
    "    base_url=\"http://localhost:11434\",\n",
    "    ollama_additional_kwargs={\"mirostat\": 0},\n",
    ")\n",
    "Settings.embed_model = ollama_embedding"
   ]
  },
  {
   "cell_type": "code",
   "execution_count": 49,
   "metadata": {
    "id": "J8Xkl01PfRsy"
   },
   "outputs": [],
   "source": [
    "from llama_index.core import StorageContext\n",
    "from llama_index.core import PromptTemplate\n",
    "\n",
    "graph_store = SimpleGraphStore()\n",
    "storage_context = StorageContext.from_defaults(graph_store=graph_store)\n",
    "extraction_template = PromptTemplate(extraction_prompt)"
   ]
  },
  {
   "cell_type": "code",
   "execution_count": 50,
   "metadata": {
    "id": "J8Xkl01PfRsy"
   },
   "outputs": [
    {
     "name": "stdout",
     "output_type": "stream",
     "text": [
      "INFO:httpx:HTTP Request: POST http://localhost:11434/api/chat \"HTTP/1.1 200 OK\"\n",
      "INFO:httpx:HTTP Request: POST http://localhost:11434/api/chat \"HTTP/1.1 200 OK\"\n",
      "INFO:httpx:HTTP Request: POST http://localhost:11434/api/chat \"HTTP/1.1 200 OK\"\n",
      "INFO:httpx:HTTP Request: POST http://localhost:11434/api/chat \"HTTP/1.1 200 OK\"\n",
      "INFO:httpx:HTTP Request: POST http://localhost:11434/api/chat \"HTTP/1.1 200 OK\"\n",
      "INFO:httpx:HTTP Request: POST http://localhost:11434/api/chat \"HTTP/1.1 200 OK\"\n",
      "INFO:httpx:HTTP Request: POST http://localhost:11434/api/chat \"HTTP/1.1 200 OK\"\n",
      "INFO:httpx:HTTP Request: POST http://localhost:11434/api/chat \"HTTP/1.1 200 OK\"\n",
      "INFO:httpx:HTTP Request: POST http://localhost:11434/api/chat \"HTTP/1.1 200 OK\"\n",
      "INFO:httpx:HTTP Request: POST http://localhost:11434/api/chat \"HTTP/1.1 200 OK\"\n",
      "INFO:httpx:HTTP Request: POST http://localhost:11434/api/chat \"HTTP/1.1 200 OK\"\n",
      "INFO:httpx:HTTP Request: POST http://localhost:11434/api/chat \"HTTP/1.1 200 OK\"\n",
      "INFO:httpx:HTTP Request: POST http://localhost:11434/api/chat \"HTTP/1.1 200 OK\"\n",
      "INFO:httpx:HTTP Request: POST http://localhost:11434/api/chat \"HTTP/1.1 200 OK\"\n",
      "INFO:httpx:HTTP Request: POST http://localhost:11434/api/chat \"HTTP/1.1 200 OK\"\n",
      "INFO:httpx:HTTP Request: POST http://localhost:11434/api/chat \"HTTP/1.1 200 OK\"\n",
      "INFO:httpx:HTTP Request: POST http://localhost:11434/api/chat \"HTTP/1.1 200 OK\"\n",
      "INFO:httpx:HTTP Request: POST http://localhost:11434/api/chat \"HTTP/1.1 200 OK\"\n",
      "INFO:httpx:HTTP Request: POST http://localhost:11434/api/chat \"HTTP/1.1 200 OK\"\n",
      "INFO:httpx:HTTP Request: POST http://localhost:11434/api/chat \"HTTP/1.1 200 OK\"\n",
      "INFO:httpx:HTTP Request: POST http://localhost:11434/api/chat \"HTTP/1.1 200 OK\"\n",
      "INFO:httpx:HTTP Request: POST http://localhost:11434/api/chat \"HTTP/1.1 200 OK\"\n",
      "INFO:httpx:HTTP Request: POST http://localhost:11434/api/chat \"HTTP/1.1 200 OK\"\n",
      "INFO:httpx:HTTP Request: POST http://localhost:11434/api/chat \"HTTP/1.1 200 OK\"\n"
     ]
    }
   ],
   "source": [
    "index = KnowledgeGraphIndex.from_documents(\n",
    "    documents,\n",
    "    max_triplets_per_chunk=10,\n",
    "    storage_context=storage_context,\n",
    "    kg_triple_extract_template=extraction_template,\n",
    "    include_embeddings=True,\n",
    "    embed_model=ollama_embedding\n",
    ")"
   ]
  },
  {
   "cell_type": "code",
   "execution_count": 110,
   "metadata": {
    "colab": {
     "base_uri": "https://localhost:8080/"
    },
    "id": "TZbG5AB-fTsB",
    "outputId": "b683eddc-02f5-4d10-c92f-e36008d8bc09"
   },
   "outputs": [
    {
     "name": "stdout",
     "output_type": "stream",
     "text": [
      "INFO:httpx:HTTP Request: POST http://localhost:11434/api/chat \"HTTP/1.1 200 OK\"\n",
      "\u001B[1;3;32mExtracted keywords: ['related', 'effective', 'keywords', 'words', 'question', 'extracted', 'date', 'relevant', \"Here are the extracted keywords: 'KEYWORDS: effective\", 'Here', 'find', 'These', 'two', 'help', 'information', 'KEYWORDS', \"date'\\n\\nThese two words should help you find relevant information related to the question about the effective date.\"]\n",
      "\u001B[0mINFO:llama_index.core.indices.knowledge_graph.retrievers:> Querying with idx: f21133d5-4fd5-4874-ac8e-1c6b6a41204e: in the case of the trademarks HERC RENTALS and HERCRENTALS Logo will be used ...\n",
      "INFO:llama_index.core.indices.knowledge_graph.retrievers:> Querying with idx: 3c7694e9-1ac8-4ffd-8377-2f28d0cc26e6: This provision shall survive the expiration or earlier termination of this Ag...\n",
      "INFO:llama_index.core.indices.knowledge_graph.retrievers:> Querying with idx: 79b0576b-9aea-4e94-813f-6dc3ed33a609: 2.7 In the case of the HERC (HERC) Foreign ERB Trademarks owned by HERC:   2....\n",
      "INFO:llama_index.core.indices.knowledge_graph.retrievers:> Querying with idx: ea128737-05ab-4c14-a310-2636c5bb17f1: Notwithstanding the foregoing, if the nature of the breach is such that it ca...\n",
      "INFO:llama_index.core.indices.knowledge_graph.retrievers:> Querying with idx: b3832943-a906-4973-b361-665e9f5f96f2: HERC shall immediately discontinue use of the THC (HERTZ) ERB Domains upon th...\n",
      "INFO:llama_index.core.indices.knowledge_graph.retrievers:> Querying with idx: 1581ab93-b926-4a19-8002-7bbdb05ac405: HSI shall defend, indemnify and hold HERC harmless against any and all claims...\n",
      "INFO:llama_index.core.indices.knowledge_graph.retrievers:> Querying with idx: b666468f-7046-4324-bc0e-0acbe7a7b92a: including the trademark applications and registrations therefor as more fully...\n",
      "INFO:llama_index.core.indices.knowledge_graph.retrievers:> Querying with idx: 1db7213f-7978-4c7f-9a7c-a6850929a5cb: (to be renamed \"Hertz Global Holdings, Inc.\" in connection with the Separatio...\n",
      "INFO:llama_index.core.indices.knowledge_graph.retrievers:> Querying with idx: dae79f5c-bc08-4fc0-be18-4e614c0ad823: HERC shall provide for ten (10) days notice to THC and HSI in the event of an...\n",
      "INFO:llama_index.core.indices.knowledge_graph.retrievers:> Querying with idx: 753a3cce-9b95-46d6-b036-edb4fd4d1d24: Definitions   1.1 The \"Equipment Rental Business\" or \"ERB\" has the meaning gi...\n",
      "\u001B[1;3;34mKG context:\n",
      "The following are knowledge sequence in max depth 30 in the form of directed graph like:\n",
      "`subject -[predicate]->, object, <-[predicate_next_hop]-, object_next_hop ...`\n",
      "('Certificates of insurance', 'Herc agrees to furnish', 'Evidencing same within thirty (30')\n",
      "('Thc', 'Has permission to use', 'Hertz and hertz-formative domain names for equipment rental business')\n",
      "('Thc', 'Has permission to use', 'Non-hertz-formative domain names for equipment rental business')\n",
      "('Interim period', 'Is the period during which', 'Herc may use thc hertz erb domains')\n",
      "('Agreement', 'Is', 'Intellectual property agreement')\n",
      "\u001B[0mINFO:httpx:HTTP Request: POST http://localhost:11434/api/chat \"HTTP/1.1 200 OK\"\n",
      "INFO:httpx:HTTP Request: POST http://localhost:11434/api/chat \"HTTP/1.1 200 OK\"\n"
     ]
    }
   ],
   "source": [
    "from llama_index.core.query_engine import RetrieverQueryEngine\n",
    "\n",
    "retriever = index.as_retriever(\n",
    "    include_text=True,\n",
    "    retriever_mode=\"embedding\",\n",
    "    similarity_top_k=5,\n",
    "    verbose=True,\n",
    "    use_global_node_triplets=True,\n",
    "    graph_store_query_depth=30)\n",
    "\n",
    "query_engine = RetrieverQueryEngine.from_args(\n",
    "    retriever,\n",
    "    include_text=False,\n",
    "\n",
    ")\n",
    "\n",
    "response = query_engine.query(\n",
    "    \"What is the effective date?\",\n",
    ")"
   ]
  },
  {
   "cell_type": "code",
   "execution_count": 111,
   "metadata": {
    "colab": {
     "base_uri": "https://localhost:8080/"
    },
    "id": "TZbG5AB-fTsB",
    "outputId": "b683eddc-02f5-4d10-c92f-e36008d8bc09"
   },
   "outputs": [
    {
     "data": {
      "text/plain": [
       "Response(response='The effective date is not explicitly mentioned in the provided text. However, based on the context, it can be inferred that the agreement was signed or executed on July 7, 2016.', source_nodes=[NodeWithScore(node=TextNode(id_='f21133d5-4fd5-4874-ac8e-1c6b6a41204e', embedding=None, metadata={'file_path': '/Users/jalal/Documents/projects/KGRAG/data_test/HERTZGLOBALHOLDINGS,INC_07_07_2016-EX-10.4-INTELLECTUAL PROPERTY AGREEMENT.txt', 'file_name': 'HERTZGLOBALHOLDINGS,INC_07_07_2016-EX-10.4-INTELLECTUAL PROPERTY AGREEMENT.txt', 'file_type': 'text/plain', 'file_size': 30968, 'creation_date': '2024-05-20', 'last_modified_date': '2024-05-20'}, excluded_embed_metadata_keys=['file_name', 'file_type', 'file_size', 'creation_date', 'last_modified_date', 'last_accessed_date'], excluded_llm_metadata_keys=['file_name', 'file_type', 'file_size', 'creation_date', 'last_modified_date', 'last_accessed_date'], relationships={<NodeRelationship.SOURCE: '1'>: RelatedNodeInfo(node_id='6f005e3f-a3c0-4969-9fa4-ef3a04496214', node_type=<ObjectType.DOCUMENT: '4'>, metadata={'file_path': '/Users/jalal/Documents/projects/KGRAG/data_test/HERTZGLOBALHOLDINGS,INC_07_07_2016-EX-10.4-INTELLECTUAL PROPERTY AGREEMENT.txt', 'file_name': 'HERTZGLOBALHOLDINGS,INC_07_07_2016-EX-10.4-INTELLECTUAL PROPERTY AGREEMENT.txt', 'file_type': 'text/plain', 'file_size': 30968, 'creation_date': '2024-05-20', 'last_modified_date': '2024-05-20'}, hash='464454c20c25825ef82802cc509918d9037d301294c442bd1d84f7de5b363aa2'), <NodeRelationship.PREVIOUS: '2'>: RelatedNodeInfo(node_id='b666468f-7046-4324-bc0e-0acbe7a7b92a', node_type=<ObjectType.TEXT: '1'>, metadata={'file_path': '/Users/jalal/Documents/projects/KGRAG/data_test/HERTZGLOBALHOLDINGS,INC_07_07_2016-EX-10.4-INTELLECTUAL PROPERTY AGREEMENT.txt', 'file_name': 'HERTZGLOBALHOLDINGS,INC_07_07_2016-EX-10.4-INTELLECTUAL PROPERTY AGREEMENT.txt', 'file_type': 'text/plain', 'file_size': 30968, 'creation_date': '2024-05-20', 'last_modified_date': '2024-05-20'}, hash='21f1aa0b4267d7cb8e42b7ced9c858fa58d83afb14a143ab1d74625e88ec46ae'), <NodeRelationship.NEXT: '3'>: RelatedNodeInfo(node_id='753a3cce-9b95-46d6-b036-edb4fd4d1d24', node_type=<ObjectType.TEXT: '1'>, metadata={}, hash='225aad53582a667a8ded641d217a02f865a5428aa3c751b6ac738b898e7aeeff')}, text='in the case of the trademarks HERC RENTALS and HERCRENTALS Logo will be used by Herc in connection with the Equipment Rental Business, including the trademark applications and registrations therefore as more fully set forth on Schedule F.   WHEREAS, THC is the owner of certain HERTZ and HERTZ-formative domain names (the \"THC (HERTZ) ERB Domains\") used by HERC with the permission of THC related to the Equipment Rental Business, as more fully set forth on Schedule G;   WHEREAS, THC is the owner of certain non-HERTZ-formative domain names (the \"THC ERB Domains\") used by HERC with the permission of THC related to the Equipment Rental Business, as more fully set forth on Schedule H;   2\\n\\n\\n\\n\\n\\n  WHEREAS, as a result of the Separation, the Parties wish to differentiate and distinguish the future ownership, license and use of the relevant HERTZ, HERTZ-formative, HERC and other trademark rights and logos on a worldwide basis related to the Vehicle Renting Business which is to remain with HSI and the Equipment Rental Business to remain with HERC and the Parties have agreed upon a plan going forward with respect to the ownership, license and use of the HSI (HERTZ) Foreign ERB Trademarks, the HSI (HERTZ) US ERB Trademarks, the HSI HERC Foreign ERB Trademarks, the HERC (HERTZ) US ERB Trademarks, the HERC (HERC) US ERB Trademarks, the THC (HERTZ) ERB Domains and the THC ERB Domains; and   NOW, THEREFORE, for good and valuable consideration, the receipt of which is hereby acknowledged, the parties hereto agree as follows:   1. Definitions   1.1 The \"Equipment Rental Business\" or \"ERB\" has the meaning given to such term in the Distribution Agreement.   1.2 \"Interim Period\" means a period of four (4) years commencing from the Effective Date of this Agreement.', start_char_idx=4696, end_char_idx=6467, text_template='{metadata_str}\\n\\n{content}', metadata_template='{key}: {value}', metadata_seperator='\\n'), score=1000.0), NodeWithScore(node=TextNode(id_='3c7694e9-1ac8-4ffd-8377-2f28d0cc26e6', embedding=None, metadata={'file_path': '/Users/jalal/Documents/projects/KGRAG/data_test/HERTZGLOBALHOLDINGS,INC_07_07_2016-EX-10.4-INTELLECTUAL PROPERTY AGREEMENT.txt', 'file_name': 'HERTZGLOBALHOLDINGS,INC_07_07_2016-EX-10.4-INTELLECTUAL PROPERTY AGREEMENT.txt', 'file_type': 'text/plain', 'file_size': 30968, 'creation_date': '2024-05-20', 'last_modified_date': '2024-05-20'}, excluded_embed_metadata_keys=['file_name', 'file_type', 'file_size', 'creation_date', 'last_modified_date', 'last_accessed_date'], excluded_llm_metadata_keys=['file_name', 'file_type', 'file_size', 'creation_date', 'last_modified_date', 'last_accessed_date'], relationships={<NodeRelationship.SOURCE: '1'>: RelatedNodeInfo(node_id='6f005e3f-a3c0-4969-9fa4-ef3a04496214', node_type=<ObjectType.DOCUMENT: '4'>, metadata={'file_path': '/Users/jalal/Documents/projects/KGRAG/data_test/HERTZGLOBALHOLDINGS,INC_07_07_2016-EX-10.4-INTELLECTUAL PROPERTY AGREEMENT.txt', 'file_name': 'HERTZGLOBALHOLDINGS,INC_07_07_2016-EX-10.4-INTELLECTUAL PROPERTY AGREEMENT.txt', 'file_type': 'text/plain', 'file_size': 30968, 'creation_date': '2024-05-20', 'last_modified_date': '2024-05-20'}, hash='464454c20c25825ef82802cc509918d9037d301294c442bd1d84f7de5b363aa2'), <NodeRelationship.PREVIOUS: '2'>: RelatedNodeInfo(node_id='1581ab93-b926-4a19-8002-7bbdb05ac405', node_type=<ObjectType.TEXT: '1'>, metadata={'file_path': '/Users/jalal/Documents/projects/KGRAG/data_test/HERTZGLOBALHOLDINGS,INC_07_07_2016-EX-10.4-INTELLECTUAL PROPERTY AGREEMENT.txt', 'file_name': 'HERTZGLOBALHOLDINGS,INC_07_07_2016-EX-10.4-INTELLECTUAL PROPERTY AGREEMENT.txt', 'file_type': 'text/plain', 'file_size': 30968, 'creation_date': '2024-05-20', 'last_modified_date': '2024-05-20'}, hash='60cbece0bd0a6b96f1b752d85cc33744bd0282c9ce9cbf9483bafb1946bb8ed1'), <NodeRelationship.NEXT: '3'>: RelatedNodeInfo(node_id='dae79f5c-bc08-4fc0-be18-4e614c0ad823', node_type=<ObjectType.TEXT: '1'>, metadata={}, hash='16ed4b817298b016f1665ae9b9ceffb169fb832dd639a9fd28263df2b105231f')}, text='This provision shall survive the expiration or earlier termination of this Agreement and the Trademark, Trade Name, Domain and Related Rights License Agreement.   5.4 Indemnity Procedure. All claims for indemnification under Section 5.2 and Section 5.3 and any other disputes that arise under this Agreement and the ancillary agreements exhibited hereto will be made in accordance with and governed by the procedures set forth in Article V of the Distribution Agreement.   6. Insurance. HERC shall, throughout the term of this Agreement, obtain and maintain at its own cost and expense, from a qualified AAA-rated insurance company, a standard liability insurance and business interruption policy along with advertising injury   7\\n\\n\\n\\n\\n\\n  protection, all of which must be acceptable to THC and HSI, and which must name THC and HSI as additional insureds. Such policy shall provide, in addition to other protection, protection against any and all claims, demands, and causes of action arising out of any act, omission, negligence or otherwise giving rise to a third party claim. The amount of coverage shall be a minimum of three million dollars ($3,000,000) combined single limit, with no deductible amount for each single occurrence for bodily injury and/or property damage. HERC shall provide for ten (10) days notice to THC and HSI in the event of any modification, cancellation or termination. HERC agrees to furnish THC and HSI Certificates of Insurance evidencing same within thirty (30) days after the execution of this Agreement. In no event shall HERC perform or promote the carry out the activities contemplated under this Agreement or the Trademark, Trade Name, Domain and Related Rights License Agreement prior to receipt by THC and HSI of evidence of insurance.   7. Confidentiality. Unless otherwise agreed to by the Parties or except as otherwise provided in this Agreement or the Distribution Agreement, any Confidential Information (as defined in the Distribution Agreement) furnished pursuant to this Agreement shall be subject to the confidentiality provisions and restrictions on disclosure set forth in Section 6.7 of the Distribution Agreement.   8. Breach and Termination.   8.1 By THC or HSI upon Notice.', start_char_idx=19148, end_char_idx=21375, text_template='{metadata_str}\\n\\n{content}', metadata_template='{key}: {value}', metadata_seperator='\\n'), score=1000.0), NodeWithScore(node=TextNode(id_='79b0576b-9aea-4e94-813f-6dc3ed33a609', embedding=None, metadata={'file_path': '/Users/jalal/Documents/projects/KGRAG/data_test/HERTZGLOBALHOLDINGS,INC_07_07_2016-EX-10.4-INTELLECTUAL PROPERTY AGREEMENT.txt', 'file_name': 'HERTZGLOBALHOLDINGS,INC_07_07_2016-EX-10.4-INTELLECTUAL PROPERTY AGREEMENT.txt', 'file_type': 'text/plain', 'file_size': 30968, 'creation_date': '2024-05-20', 'last_modified_date': '2024-05-20'}, excluded_embed_metadata_keys=['file_name', 'file_type', 'file_size', 'creation_date', 'last_modified_date', 'last_accessed_date'], excluded_llm_metadata_keys=['file_name', 'file_type', 'file_size', 'creation_date', 'last_modified_date', 'last_accessed_date'], relationships={<NodeRelationship.SOURCE: '1'>: RelatedNodeInfo(node_id='6f005e3f-a3c0-4969-9fa4-ef3a04496214', node_type=<ObjectType.DOCUMENT: '4'>, metadata={'file_path': '/Users/jalal/Documents/projects/KGRAG/data_test/HERTZGLOBALHOLDINGS,INC_07_07_2016-EX-10.4-INTELLECTUAL PROPERTY AGREEMENT.txt', 'file_name': 'HERTZGLOBALHOLDINGS,INC_07_07_2016-EX-10.4-INTELLECTUAL PROPERTY AGREEMENT.txt', 'file_type': 'text/plain', 'file_size': 30968, 'creation_date': '2024-05-20', 'last_modified_date': '2024-05-20'}, hash='464454c20c25825ef82802cc509918d9037d301294c442bd1d84f7de5b363aa2'), <NodeRelationship.PREVIOUS: '2'>: RelatedNodeInfo(node_id='4eb49aef-a367-4944-bccb-d63f53a791dc', node_type=<ObjectType.TEXT: '1'>, metadata={'file_path': '/Users/jalal/Documents/projects/KGRAG/data_test/HERTZGLOBALHOLDINGS,INC_07_07_2016-EX-10.4-INTELLECTUAL PROPERTY AGREEMENT.txt', 'file_name': 'HERTZGLOBALHOLDINGS,INC_07_07_2016-EX-10.4-INTELLECTUAL PROPERTY AGREEMENT.txt', 'file_type': 'text/plain', 'file_size': 30968, 'creation_date': '2024-05-20', 'last_modified_date': '2024-05-20'}, hash='e8b38dc36a181e8904c7c0af02baf36e0aa9122573956e5d936d9c6ada175331'), <NodeRelationship.NEXT: '3'>: RelatedNodeInfo(node_id='b3832943-a906-4973-b361-665e9f5f96f2', node_type=<ObjectType.TEXT: '1'>, metadata={}, hash='3331d585680799ebd99b5a06c154fc5f334f42510a949c9f067da4a385da3b6f')}, text='2.7 In the case of the HERC (HERC) Foreign ERB Trademarks owned by HERC:   2.7.1 HERC shall retain ownership and the right to use the HERC (HERC) Foreign ERB Trademarks (those foreign trademarks owned by HERC related to the ERB that do not incorporate the mark/name HERTZ) as set forth on Schedule F.   2.8. In the case of the THC (HERTZ) ERB Domains owned by THC:   2.8.1 THC will retain ownership and will, subject to compliance with the terms of this Agreement, grant a royalty-free, non-exclusive license to HERC to use the THC (HERTZ) ERB Domains (those domains owned by THC related to the ERB that   4\\n\\n\\n\\n\\n\\n  incorporate the mark/name HERTZ) as set forth on Schedule G, for the Interim Period, as more fully set forth in the Trademark, Trade Name, Domain and Related Rights License Agreement. HERC shall immediately discontinue use of the THC (HERTZ) ERB Domains upon the expiration of the Interim Period or the earlier termination of this Agreement or the Trademark, Trade Name, Domain and Related Rights License Agreement. HERC shall make certain that no THC (HERTZ) ERB Domains resolve to a website upon the expiration of the Interim Period or the earlier termination of this Agreement or the Trademark, Trade Name, Domain and Related Rights License Agreement.   2.9 In the case of the THC ERB Domains owned by THC:   2.9.1 THC will assign all right, title and interest in and to the THC ERB Domains (those domains owned by THC related to the ERB that do not incorporate the mark/name HERTZ) as set forth on Schedule H to HERC and as more fully set forth in the Domain Name Assignment attached hereto as Exhibit D.', start_char_idx=10036, end_char_idx=11659, text_template='{metadata_str}\\n\\n{content}', metadata_template='{key}: {value}', metadata_seperator='\\n'), score=1000.0), NodeWithScore(node=TextNode(id_='ea128737-05ab-4c14-a310-2636c5bb17f1', embedding=None, metadata={'file_path': '/Users/jalal/Documents/projects/KGRAG/data_test/HERTZGLOBALHOLDINGS,INC_07_07_2016-EX-10.4-INTELLECTUAL PROPERTY AGREEMENT.txt', 'file_name': 'HERTZGLOBALHOLDINGS,INC_07_07_2016-EX-10.4-INTELLECTUAL PROPERTY AGREEMENT.txt', 'file_type': 'text/plain', 'file_size': 30968, 'creation_date': '2024-05-20', 'last_modified_date': '2024-05-20'}, excluded_embed_metadata_keys=['file_name', 'file_type', 'file_size', 'creation_date', 'last_modified_date', 'last_accessed_date'], excluded_llm_metadata_keys=['file_name', 'file_type', 'file_size', 'creation_date', 'last_modified_date', 'last_accessed_date'], relationships={<NodeRelationship.SOURCE: '1'>: RelatedNodeInfo(node_id='6f005e3f-a3c0-4969-9fa4-ef3a04496214', node_type=<ObjectType.DOCUMENT: '4'>, metadata={'file_path': '/Users/jalal/Documents/projects/KGRAG/data_test/HERTZGLOBALHOLDINGS,INC_07_07_2016-EX-10.4-INTELLECTUAL PROPERTY AGREEMENT.txt', 'file_name': 'HERTZGLOBALHOLDINGS,INC_07_07_2016-EX-10.4-INTELLECTUAL PROPERTY AGREEMENT.txt', 'file_type': 'text/plain', 'file_size': 30968, 'creation_date': '2024-05-20', 'last_modified_date': '2024-05-20'}, hash='464454c20c25825ef82802cc509918d9037d301294c442bd1d84f7de5b363aa2'), <NodeRelationship.PREVIOUS: '2'>: RelatedNodeInfo(node_id='dae79f5c-bc08-4fc0-be18-4e614c0ad823', node_type=<ObjectType.TEXT: '1'>, metadata={'file_path': '/Users/jalal/Documents/projects/KGRAG/data_test/HERTZGLOBALHOLDINGS,INC_07_07_2016-EX-10.4-INTELLECTUAL PROPERTY AGREEMENT.txt', 'file_name': 'HERTZGLOBALHOLDINGS,INC_07_07_2016-EX-10.4-INTELLECTUAL PROPERTY AGREEMENT.txt', 'file_type': 'text/plain', 'file_size': 30968, 'creation_date': '2024-05-20', 'last_modified_date': '2024-05-20'}, hash='c8965eaf6403c52d894426c7f53c135294be90a9294dc05b53bd95d46e451e60'), <NodeRelationship.NEXT: '3'>: RelatedNodeInfo(node_id='78c1177d-ccb0-48ff-8dea-2f9c773e45b9', node_type=<ObjectType.TEXT: '1'>, metadata={}, hash='cd399722a15a8ecc5468043d56c60543583d883c4eef22dbb934683ab5813fe5')}, text=\"Notwithstanding the foregoing, if the nature of the breach is such that it cannot be cured, then this Agreement shall automatically terminate upon notice of termination by THC or HSI to HERC (without any opportunity to cure the breach).   8.2 By THC or HSI Immediately. THC or HSI shall have the right to immediately terminate this Agreement if HERC: (i) becomes insolvent, or (ii) files a petition in bankruptcy or is adjudicated a bankrupt, or if a petition in bankruptcy is filed against HERC and not dismissed within thirty (30) days, or (iii) makes an assignment for the benefit of its creditors or an arrangement pursuant to any bankruptcy law, or (iv) discontinues its business, or (v) causes or suffers a receiver to be appointed for it or its business and such receiver has not been discharged within thirty (30) days after the date of appointment thereof   8.3 No Waiver. No refusal by either THC or HSI to terminate this Agreement in accordance this section will be deemed to be a waiver of such Party's right to terminate upon any subsequent or future event by which such party has, or is provided with, the right to terminate this Agreement.   8\\n\\n\\n\\n\\n\\n  8.4 Effect of Termination. Termination of this Agreement shall not result in the termination of any provisions herein which by their nature are meant to survive termination (including any covenants herein related to discontinuation of use of licensed intellectual property and the indemnification provisions hereof), nor shall it relieve any Party of liability for breaches of the terms hereof prior to termination. For the avoidance of doubt, the Parties agree that in the event of termination of this Agreement or the Trademark, Trade Name, Domain and Related Rights License Agreement, Section 4.4 of the Trademark, Trade Name, Domain and Related Rights License Agreement contains additional provisions related to termination of licensed intellectual property pursuant to the terms hereof that shall apply as if contained herein.   9. Non-Competition.\", start_char_idx=21746, end_char_idx=23765, text_template='{metadata_str}\\n\\n{content}', metadata_template='{key}: {value}', metadata_seperator='\\n'), score=1000.0), NodeWithScore(node=TextNode(id_='b3832943-a906-4973-b361-665e9f5f96f2', embedding=None, metadata={'file_path': '/Users/jalal/Documents/projects/KGRAG/data_test/HERTZGLOBALHOLDINGS,INC_07_07_2016-EX-10.4-INTELLECTUAL PROPERTY AGREEMENT.txt', 'file_name': 'HERTZGLOBALHOLDINGS,INC_07_07_2016-EX-10.4-INTELLECTUAL PROPERTY AGREEMENT.txt', 'file_type': 'text/plain', 'file_size': 30968, 'creation_date': '2024-05-20', 'last_modified_date': '2024-05-20'}, excluded_embed_metadata_keys=['file_name', 'file_type', 'file_size', 'creation_date', 'last_modified_date', 'last_accessed_date'], excluded_llm_metadata_keys=['file_name', 'file_type', 'file_size', 'creation_date', 'last_modified_date', 'last_accessed_date'], relationships={<NodeRelationship.SOURCE: '1'>: RelatedNodeInfo(node_id='6f005e3f-a3c0-4969-9fa4-ef3a04496214', node_type=<ObjectType.DOCUMENT: '4'>, metadata={'file_path': '/Users/jalal/Documents/projects/KGRAG/data_test/HERTZGLOBALHOLDINGS,INC_07_07_2016-EX-10.4-INTELLECTUAL PROPERTY AGREEMENT.txt', 'file_name': 'HERTZGLOBALHOLDINGS,INC_07_07_2016-EX-10.4-INTELLECTUAL PROPERTY AGREEMENT.txt', 'file_type': 'text/plain', 'file_size': 30968, 'creation_date': '2024-05-20', 'last_modified_date': '2024-05-20'}, hash='464454c20c25825ef82802cc509918d9037d301294c442bd1d84f7de5b363aa2'), <NodeRelationship.PREVIOUS: '2'>: RelatedNodeInfo(node_id='79b0576b-9aea-4e94-813f-6dc3ed33a609', node_type=<ObjectType.TEXT: '1'>, metadata={'file_path': '/Users/jalal/Documents/projects/KGRAG/data_test/HERTZGLOBALHOLDINGS,INC_07_07_2016-EX-10.4-INTELLECTUAL PROPERTY AGREEMENT.txt', 'file_name': 'HERTZGLOBALHOLDINGS,INC_07_07_2016-EX-10.4-INTELLECTUAL PROPERTY AGREEMENT.txt', 'file_type': 'text/plain', 'file_size': 30968, 'creation_date': '2024-05-20', 'last_modified_date': '2024-05-20'}, hash='f3b287d4908d551d9122f7a48cf01130f3b42dfaf2e9bc28881a88b2e3737c20'), <NodeRelationship.NEXT: '3'>: RelatedNodeInfo(node_id='7f0305f5-1b0f-41ae-a90e-6a35e50457b2', node_type=<ObjectType.TEXT: '1'>, metadata={}, hash='33816dd3978ca898ee3df4edbe0a4df889e2942839dc7e21f6bb2967ff30edc9')}, text='HERC shall immediately discontinue use of the THC (HERTZ) ERB Domains upon the expiration of the Interim Period or the earlier termination of this Agreement or the Trademark, Trade Name, Domain and Related Rights License Agreement. HERC shall make certain that no THC (HERTZ) ERB Domains resolve to a website upon the expiration of the Interim Period or the earlier termination of this Agreement or the Trademark, Trade Name, Domain and Related Rights License Agreement.   2.9 In the case of the THC ERB Domains owned by THC:   2.9.1 THC will assign all right, title and interest in and to the THC ERB Domains (those domains owned by THC related to the ERB that do not incorporate the mark/name HERTZ) as set forth on Schedule H to HERC and as more fully set forth in the Domain Name Assignment attached hereto as Exhibit D.   2.10 In the case of the use of the mark/name HERTZ in the company name Hertz Equipment Rental Corporation (HERC):   2.10.1 HSI will, subject to compliance with the terms of this Agreement, grant a royalty-free, non-exclusive worldwide license to HERC to use the mark/name HERTZ as part of company names for the Interim Period, as more fully set forth in the Trademark, Trade Name, Domain and Related Rights License Agreement attached as Exhibit A. Notwithstanding anything to the contrary herein, HERC shall immediately discontinue use of the mark/name as part of its company name upon expiration of the Interim Period or the earlier termination of this Agreement or the Trademark, Trade Name, Domain and Related Rights License Agreement. HERC shall take all steps to change the company name so as to not to include the mark/name HERTZ by the expiration of the Interim Period.', start_char_idx=10835, end_char_idx=12538, text_template='{metadata_str}\\n\\n{content}', metadata_template='{key}: {value}', metadata_seperator='\\n'), score=1000.0), NodeWithScore(node=TextNode(id_='1581ab93-b926-4a19-8002-7bbdb05ac405', embedding=None, metadata={'file_path': '/Users/jalal/Documents/projects/KGRAG/data_test/HERTZGLOBALHOLDINGS,INC_07_07_2016-EX-10.4-INTELLECTUAL PROPERTY AGREEMENT.txt', 'file_name': 'HERTZGLOBALHOLDINGS,INC_07_07_2016-EX-10.4-INTELLECTUAL PROPERTY AGREEMENT.txt', 'file_type': 'text/plain', 'file_size': 30968, 'creation_date': '2024-05-20', 'last_modified_date': '2024-05-20'}, excluded_embed_metadata_keys=['file_name', 'file_type', 'file_size', 'creation_date', 'last_modified_date', 'last_accessed_date'], excluded_llm_metadata_keys=['file_name', 'file_type', 'file_size', 'creation_date', 'last_modified_date', 'last_accessed_date'], relationships={<NodeRelationship.SOURCE: '1'>: RelatedNodeInfo(node_id='6f005e3f-a3c0-4969-9fa4-ef3a04496214', node_type=<ObjectType.DOCUMENT: '4'>, metadata={'file_path': '/Users/jalal/Documents/projects/KGRAG/data_test/HERTZGLOBALHOLDINGS,INC_07_07_2016-EX-10.4-INTELLECTUAL PROPERTY AGREEMENT.txt', 'file_name': 'HERTZGLOBALHOLDINGS,INC_07_07_2016-EX-10.4-INTELLECTUAL PROPERTY AGREEMENT.txt', 'file_type': 'text/plain', 'file_size': 30968, 'creation_date': '2024-05-20', 'last_modified_date': '2024-05-20'}, hash='464454c20c25825ef82802cc509918d9037d301294c442bd1d84f7de5b363aa2'), <NodeRelationship.PREVIOUS: '2'>: RelatedNodeInfo(node_id='11e1c81e-f722-4804-8549-70c9f1e52c2f', node_type=<ObjectType.TEXT: '1'>, metadata={'file_path': '/Users/jalal/Documents/projects/KGRAG/data_test/HERTZGLOBALHOLDINGS,INC_07_07_2016-EX-10.4-INTELLECTUAL PROPERTY AGREEMENT.txt', 'file_name': 'HERTZGLOBALHOLDINGS,INC_07_07_2016-EX-10.4-INTELLECTUAL PROPERTY AGREEMENT.txt', 'file_type': 'text/plain', 'file_size': 30968, 'creation_date': '2024-05-20', 'last_modified_date': '2024-05-20'}, hash='41c9ea4f94c27856e290f7e1f54ac34894eea2a0ec20a2e6b9a319bb2bec1428'), <NodeRelationship.NEXT: '3'>: RelatedNodeInfo(node_id='3c7694e9-1ac8-4ffd-8377-2f28d0cc26e6', node_type=<ObjectType.TEXT: '1'>, metadata={}, hash='43190634d76b804975e3f71aab2e182c6e5bced28b0e060f0d3046b6deb59812')}, text=\"HSI shall defend, indemnify and hold HERC harmless against any and all claims, suits, actions or other proceedings whatsoever brought against HERC based on third-party claims of trademark infringement in connection with HERC'S use of the HSI (HERTZ) Foreign ERB Trademarks, the HSI (HERTZ) US ERB Trademarks, the HERC (HERTZ) US ERB Trademarks and the Other Intellectual Property to the extent such claims, suits, actions or other proceedings are based upon use of the HERTZ element comprising a HSI (HERTZ) Foreign ERB Trademark, HSI (HERTZ) US ERB Trademark, HERC (HERTZ) US ERB Trademark or Other Intellectual Property during the Interim Period only and from claims of third parties against HERC or any of its affiliates stemming from HERTZ's use of the HERTZ trademarks.   5.3 Indemnification of THC and HSI. Except as provided in Section 5.2, HERC shall defend, indemnify and hold THC, HSI, and their affiliates, and each of their officers, directors, agents, and employees harmless from and against all costs, expenses, taxes (including interest and penalties, and determined without regard to the tax attributes of any indemnitee) and losses (including reasonable attorney fees and costs) incurred from claims of third parties (including any taxing authority) against either THC, HSI or any of their affiliates stemming from any of the activities contemplated under this Agreement or the Trademark, Trade Name, Domain and Related Rights License Agreement and HERC's use of the HERC trademarks, including without limitation any transfers of rights and actions which relate in any way to the manufacture, distribution, sale or performance or promotion of the Foreign and US Licensed Products and Services (as defined in the Trademark, Trade Name, Domain and Related Rights License Agreement). This provision shall survive the expiration or earlier termination of this Agreement and the Trademark, Trade Name, Domain and Related Rights License Agreement.   5.4 Indemnity Procedure.\", start_char_idx=17350, end_char_idx=19335, text_template='{metadata_str}\\n\\n{content}', metadata_template='{key}: {value}', metadata_seperator='\\n'), score=1000.0), NodeWithScore(node=TextNode(id_='b666468f-7046-4324-bc0e-0acbe7a7b92a', embedding=None, metadata={'file_path': '/Users/jalal/Documents/projects/KGRAG/data_test/HERTZGLOBALHOLDINGS,INC_07_07_2016-EX-10.4-INTELLECTUAL PROPERTY AGREEMENT.txt', 'file_name': 'HERTZGLOBALHOLDINGS,INC_07_07_2016-EX-10.4-INTELLECTUAL PROPERTY AGREEMENT.txt', 'file_type': 'text/plain', 'file_size': 30968, 'creation_date': '2024-05-20', 'last_modified_date': '2024-05-20'}, excluded_embed_metadata_keys=['file_name', 'file_type', 'file_size', 'creation_date', 'last_modified_date', 'last_accessed_date'], excluded_llm_metadata_keys=['file_name', 'file_type', 'file_size', 'creation_date', 'last_modified_date', 'last_accessed_date'], relationships={<NodeRelationship.SOURCE: '1'>: RelatedNodeInfo(node_id='6f005e3f-a3c0-4969-9fa4-ef3a04496214', node_type=<ObjectType.DOCUMENT: '4'>, metadata={'file_path': '/Users/jalal/Documents/projects/KGRAG/data_test/HERTZGLOBALHOLDINGS,INC_07_07_2016-EX-10.4-INTELLECTUAL PROPERTY AGREEMENT.txt', 'file_name': 'HERTZGLOBALHOLDINGS,INC_07_07_2016-EX-10.4-INTELLECTUAL PROPERTY AGREEMENT.txt', 'file_type': 'text/plain', 'file_size': 30968, 'creation_date': '2024-05-20', 'last_modified_date': '2024-05-20'}, hash='464454c20c25825ef82802cc509918d9037d301294c442bd1d84f7de5b363aa2'), <NodeRelationship.PREVIOUS: '2'>: RelatedNodeInfo(node_id='1db7213f-7978-4c7f-9a7c-a6850929a5cb', node_type=<ObjectType.TEXT: '1'>, metadata={'file_path': '/Users/jalal/Documents/projects/KGRAG/data_test/HERTZGLOBALHOLDINGS,INC_07_07_2016-EX-10.4-INTELLECTUAL PROPERTY AGREEMENT.txt', 'file_name': 'HERTZGLOBALHOLDINGS,INC_07_07_2016-EX-10.4-INTELLECTUAL PROPERTY AGREEMENT.txt', 'file_type': 'text/plain', 'file_size': 30968, 'creation_date': '2024-05-20', 'last_modified_date': '2024-05-20'}, hash='d0dc618acb038b22a97aafd29f854a8dc9426c52b9eb023c90229b53ed1aaae2'), <NodeRelationship.NEXT: '3'>: RelatedNodeInfo(node_id='f21133d5-4fd5-4874-ac8e-1c6b6a41204e', node_type=<ObjectType.TEXT: '1'>, metadata={}, hash='bd69d463ad9fbc19c74f885bd657d334e2811b6d56f5c75f172817e07f53b145')}, text='including the trademark applications and registrations therefor as more fully set forth on Schedule B;   WHEREAS, HSI is the owner of certain foreign HERC trademarks and logos (the \"HSI HERC Foreign ERB Trademarks\") used by HERC with the permission of HSI in connection with the Equipment Rental Business, including the trademark applications and registrations therefor, as more fully set forth on Schedule C;   WHEREAS, HERC is the owner of certain US HERTZ-formative trademarks (the \"HERC (HERTZ) US ERB Trademarks\") used by HERC with the permission of HSI in connection with the Equipment Rental Business, including the trademark applications and registrations therefore as more fully set forth on Schedule D;   WHEREAS, HERC is the owner of certain US trademarks not derived from the HERTZ trademark (the \"HERC (HERC) US ERB Trademarks\") that have been used by HERC with the permission of HSI in connection with the Equipment Rental Business and, in the case of the trademarks HERC RENTALS and HERCRENTALS Logo will be used by Herc in connection with the Equipment Rental Business, including the trademark applications and registrations therefor as more fully set forth on Schedule E;   WHEREAS, HERC is the owner of certain foreign trademarks not derived from the HERTZ trademark (the \"HERC (HERC) Foreign ERB Trademarks\") that have been used by HERC with the permission of HSI in connection with the Equipment Rental Business and, in the case of the trademarks HERC RENTALS and HERCRENTALS Logo will be used by Herc in connection with the Equipment Rental Business, including the trademark applications and registrations therefore as more fully set forth on Schedule F.   WHEREAS, THC is the owner of certain HERTZ and HERTZ-formative domain names (the \"THC (HERTZ) ERB Domains\") used by HERC with the permission of THC related to the Equipment Rental Business, as more fully set forth on Schedule G;   WHEREAS, THC is the owner of certain non-HERTZ-formative domain names (the \"THC ERB Domains\") used by HERC with the permission of THC related to the Equipment Rental Business,', start_char_idx=3259, end_char_idx=5343, text_template='{metadata_str}\\n\\n{content}', metadata_template='{key}: {value}', metadata_seperator='\\n'), score=1000.0), NodeWithScore(node=TextNode(id_='1db7213f-7978-4c7f-9a7c-a6850929a5cb', embedding=None, metadata={'file_path': '/Users/jalal/Documents/projects/KGRAG/data_test/HERTZGLOBALHOLDINGS,INC_07_07_2016-EX-10.4-INTELLECTUAL PROPERTY AGREEMENT.txt', 'file_name': 'HERTZGLOBALHOLDINGS,INC_07_07_2016-EX-10.4-INTELLECTUAL PROPERTY AGREEMENT.txt', 'file_type': 'text/plain', 'file_size': 30968, 'creation_date': '2024-05-20', 'last_modified_date': '2024-05-20'}, excluded_embed_metadata_keys=['file_name', 'file_type', 'file_size', 'creation_date', 'last_modified_date', 'last_accessed_date'], excluded_llm_metadata_keys=['file_name', 'file_type', 'file_size', 'creation_date', 'last_modified_date', 'last_accessed_date'], relationships={<NodeRelationship.SOURCE: '1'>: RelatedNodeInfo(node_id='6f005e3f-a3c0-4969-9fa4-ef3a04496214', node_type=<ObjectType.DOCUMENT: '4'>, metadata={'file_path': '/Users/jalal/Documents/projects/KGRAG/data_test/HERTZGLOBALHOLDINGS,INC_07_07_2016-EX-10.4-INTELLECTUAL PROPERTY AGREEMENT.txt', 'file_name': 'HERTZGLOBALHOLDINGS,INC_07_07_2016-EX-10.4-INTELLECTUAL PROPERTY AGREEMENT.txt', 'file_type': 'text/plain', 'file_size': 30968, 'creation_date': '2024-05-20', 'last_modified_date': '2024-05-20'}, hash='464454c20c25825ef82802cc509918d9037d301294c442bd1d84f7de5b363aa2'), <NodeRelationship.PREVIOUS: '2'>: RelatedNodeInfo(node_id='21ff43f4-e8a4-4663-9b1d-c35182f5eddb', node_type=<ObjectType.TEXT: '1'>, metadata={'file_path': '/Users/jalal/Documents/projects/KGRAG/data_test/HERTZGLOBALHOLDINGS,INC_07_07_2016-EX-10.4-INTELLECTUAL PROPERTY AGREEMENT.txt', 'file_name': 'HERTZGLOBALHOLDINGS,INC_07_07_2016-EX-10.4-INTELLECTUAL PROPERTY AGREEMENT.txt', 'file_type': 'text/plain', 'file_size': 30968, 'creation_date': '2024-05-20', 'last_modified_date': '2024-05-20'}, hash='9525a81720dab473f335ec0cd892d3566d41f8fbae683536cede7b7b458f4237'), <NodeRelationship.NEXT: '3'>: RelatedNodeInfo(node_id='b666468f-7046-4324-bc0e-0acbe7a7b92a', node_type=<ObjectType.TEXT: '1'>, metadata={}, hash='1452516865e2fd2112370fc731081e0e23e60b42c47285b507ad4f8e8ee2168e')}, text='(to be renamed \"Hertz Global Holdings, Inc.\" in connection with the Separation, \"New Hertz\") and HGH (to be renamed Herc Holdings Inc. in connection with the Separation) dated as of June 30, 2016 (the \"Distribution Agreement\");   WHEREAS, as a result of the Separation, THC and HSI will become indirect wholly-owned subsidiaries of New Hertz, and HERC will continue to be an indirect wholly-owned subsidiary of HGH;   WHEREAS, THC exercises control with respect to the use, registration and enforcement of all of its company trademarks through its subsidiary HSI. HERC uses certain HERTZ or HERTZ-formative trademarks in connection with the ERB with the\\n\\nth\\n\\n\\n\\n\\n\\n  permission of HSI and THC;   WHEREAS, HSI is the owner of certain foreign HERTZ and HERTZ-formative and other trademarks and logos (the \"HSI (HERTZ) Foreign ERB Trademarks\") used or to be used by HERC with the permission of HSI in connection with the Equipment Rental Business, including the trademark applications and registrations therefor as more fully set forth on Schedule A;   WHEREAS, HSI is the owner of certain United States HERTZ and HERTZ-formative and other trademarks and logos (the \"HSI (HERTZ) US ERB Trademarks\") used by HERC with the permission of HSI in connection with the Equipment Rental Business, including the trademark applications and registrations therefor as more fully set forth on Schedule B;   WHEREAS, HSI is the owner of certain foreign HERC trademarks and logos (the \"HSI HERC Foreign ERB Trademarks\") used by HERC with the permission of HSI in connection with the Equipment Rental Business, including the trademark applications and registrations therefor, as more fully set forth on Schedule C;   WHEREAS, HERC is the owner of certain US HERTZ-formative trademarks (the \"HERC (HERTZ) US ERB Trademarks\") used by HERC with the permission of HSI in connection with the Equipment Rental Business, including the trademark applications and registrations therefore as more fully set forth on Schedule D;   WHEREAS,', start_char_idx=1975, end_char_idx=3982, text_template='{metadata_str}\\n\\n{content}', metadata_template='{key}: {value}', metadata_seperator='\\n'), score=1000.0), NodeWithScore(node=TextNode(id_='dae79f5c-bc08-4fc0-be18-4e614c0ad823', embedding=None, metadata={'file_path': '/Users/jalal/Documents/projects/KGRAG/data_test/HERTZGLOBALHOLDINGS,INC_07_07_2016-EX-10.4-INTELLECTUAL PROPERTY AGREEMENT.txt', 'file_name': 'HERTZGLOBALHOLDINGS,INC_07_07_2016-EX-10.4-INTELLECTUAL PROPERTY AGREEMENT.txt', 'file_type': 'text/plain', 'file_size': 30968, 'creation_date': '2024-05-20', 'last_modified_date': '2024-05-20'}, excluded_embed_metadata_keys=['file_name', 'file_type', 'file_size', 'creation_date', 'last_modified_date', 'last_accessed_date'], excluded_llm_metadata_keys=['file_name', 'file_type', 'file_size', 'creation_date', 'last_modified_date', 'last_accessed_date'], relationships={<NodeRelationship.SOURCE: '1'>: RelatedNodeInfo(node_id='6f005e3f-a3c0-4969-9fa4-ef3a04496214', node_type=<ObjectType.DOCUMENT: '4'>, metadata={'file_path': '/Users/jalal/Documents/projects/KGRAG/data_test/HERTZGLOBALHOLDINGS,INC_07_07_2016-EX-10.4-INTELLECTUAL PROPERTY AGREEMENT.txt', 'file_name': 'HERTZGLOBALHOLDINGS,INC_07_07_2016-EX-10.4-INTELLECTUAL PROPERTY AGREEMENT.txt', 'file_type': 'text/plain', 'file_size': 30968, 'creation_date': '2024-05-20', 'last_modified_date': '2024-05-20'}, hash='464454c20c25825ef82802cc509918d9037d301294c442bd1d84f7de5b363aa2'), <NodeRelationship.PREVIOUS: '2'>: RelatedNodeInfo(node_id='3c7694e9-1ac8-4ffd-8377-2f28d0cc26e6', node_type=<ObjectType.TEXT: '1'>, metadata={'file_path': '/Users/jalal/Documents/projects/KGRAG/data_test/HERTZGLOBALHOLDINGS,INC_07_07_2016-EX-10.4-INTELLECTUAL PROPERTY AGREEMENT.txt', 'file_name': 'HERTZGLOBALHOLDINGS,INC_07_07_2016-EX-10.4-INTELLECTUAL PROPERTY AGREEMENT.txt', 'file_type': 'text/plain', 'file_size': 30968, 'creation_date': '2024-05-20', 'last_modified_date': '2024-05-20'}, hash='7ad36ad09e0619d7ee6144dcad87b30b988965f49e338477efab7d964895754b'), <NodeRelationship.NEXT: '3'>: RelatedNodeInfo(node_id='ea128737-05ab-4c14-a310-2636c5bb17f1', node_type=<ObjectType.TEXT: '1'>, metadata={}, hash='a51d4274499b2219ec49cb782b4d8dc7a4be8b52e3112a0ccb7bb99d8eafc8d0')}, text='HERC shall provide for ten (10) days notice to THC and HSI in the event of any modification, cancellation or termination. HERC agrees to furnish THC and HSI Certificates of Insurance evidencing same within thirty (30) days after the execution of this Agreement. In no event shall HERC perform or promote the carry out the activities contemplated under this Agreement or the Trademark, Trade Name, Domain and Related Rights License Agreement prior to receipt by THC and HSI of evidence of insurance.   7. Confidentiality. Unless otherwise agreed to by the Parties or except as otherwise provided in this Agreement or the Distribution Agreement, any Confidential Information (as defined in the Distribution Agreement) furnished pursuant to this Agreement shall be subject to the confidentiality provisions and restrictions on disclosure set forth in Section 6.7 of the Distribution Agreement.   8. Breach and Termination.   8.1 By THC or HSI upon Notice. In the event of a material breach of this Agreement or any of the ancillary agreements exhibited hereto, THC or HSI may notify HERC of such material breach and terminate this Agreement upon written notice. If HERC has not cured any such breach within thirty (30) days after HERC receives such notice, this Agreement shall automatically terminate without further notice. Notwithstanding the foregoing, if the nature of the breach is such that it cannot be cured, then this Agreement shall automatically terminate upon notice of termination by THC or HSI to HERC (without any opportunity to cure the breach).   8.2 By THC or HSI Immediately. THC or HSI shall have the right to immediately terminate this Agreement if HERC: (i) becomes insolvent, or (ii) files a petition in bankruptcy or is adjudicated a bankrupt, or if a petition in bankruptcy is filed against HERC and not dismissed within thirty (30) days, or (iii) makes an assignment for the benefit of its creditors or an arrangement pursuant to any bankruptcy law, or (iv) discontinues its business, or (v) causes or suffers a receiver to be appointed for it or its business and such receiver has not been discharged within thirty (30) days after the date of appointment thereof   8.3 No Waiver.', start_char_idx=20423, end_char_idx=22627, text_template='{metadata_str}\\n\\n{content}', metadata_template='{key}: {value}', metadata_seperator='\\n'), score=1000.0), NodeWithScore(node=TextNode(id_='753a3cce-9b95-46d6-b036-edb4fd4d1d24', embedding=None, metadata={'file_path': '/Users/jalal/Documents/projects/KGRAG/data_test/HERTZGLOBALHOLDINGS,INC_07_07_2016-EX-10.4-INTELLECTUAL PROPERTY AGREEMENT.txt', 'file_name': 'HERTZGLOBALHOLDINGS,INC_07_07_2016-EX-10.4-INTELLECTUAL PROPERTY AGREEMENT.txt', 'file_type': 'text/plain', 'file_size': 30968, 'creation_date': '2024-05-20', 'last_modified_date': '2024-05-20'}, excluded_embed_metadata_keys=['file_name', 'file_type', 'file_size', 'creation_date', 'last_modified_date', 'last_accessed_date'], excluded_llm_metadata_keys=['file_name', 'file_type', 'file_size', 'creation_date', 'last_modified_date', 'last_accessed_date'], relationships={<NodeRelationship.SOURCE: '1'>: RelatedNodeInfo(node_id='6f005e3f-a3c0-4969-9fa4-ef3a04496214', node_type=<ObjectType.DOCUMENT: '4'>, metadata={'file_path': '/Users/jalal/Documents/projects/KGRAG/data_test/HERTZGLOBALHOLDINGS,INC_07_07_2016-EX-10.4-INTELLECTUAL PROPERTY AGREEMENT.txt', 'file_name': 'HERTZGLOBALHOLDINGS,INC_07_07_2016-EX-10.4-INTELLECTUAL PROPERTY AGREEMENT.txt', 'file_type': 'text/plain', 'file_size': 30968, 'creation_date': '2024-05-20', 'last_modified_date': '2024-05-20'}, hash='464454c20c25825ef82802cc509918d9037d301294c442bd1d84f7de5b363aa2'), <NodeRelationship.PREVIOUS: '2'>: RelatedNodeInfo(node_id='f21133d5-4fd5-4874-ac8e-1c6b6a41204e', node_type=<ObjectType.TEXT: '1'>, metadata={'file_path': '/Users/jalal/Documents/projects/KGRAG/data_test/HERTZGLOBALHOLDINGS,INC_07_07_2016-EX-10.4-INTELLECTUAL PROPERTY AGREEMENT.txt', 'file_name': 'HERTZGLOBALHOLDINGS,INC_07_07_2016-EX-10.4-INTELLECTUAL PROPERTY AGREEMENT.txt', 'file_type': 'text/plain', 'file_size': 30968, 'creation_date': '2024-05-20', 'last_modified_date': '2024-05-20'}, hash='49a43db0bbbf4ea7aa770b181a2bb7360a77aab0d2d3bd161dd11e283fffcc69'), <NodeRelationship.NEXT: '3'>: RelatedNodeInfo(node_id='adef1621-0603-4a0c-ad20-391f51bf8b89', node_type=<ObjectType.TEXT: '1'>, metadata={}, hash='be13b4589398f31fcf45ad9d9743d78ce2ab5a0497282843cf805c88eaf0d61d')}, text='Definitions   1.1 The \"Equipment Rental Business\" or \"ERB\" has the meaning given to such term in the Distribution Agreement.   1.2 \"Interim Period\" means a period of four (4) years commencing from the Effective Date of this Agreement.   1.3 \"Other Intellectual Property\" means any copyrights, trade dress, content, designs or other indicia and/or social media accounts and handles owned by THC and/or HSI that are already used or otherwise in the possession of HERC relating to the HERTZ and HERTZ-formative trademarks and logos in connection with the Equipment Rental Business.   2. Terms of Transfer, License and Use   2.1. HSI will retain ownership of the worldwide rights in and to the VRB Trademarks.   2.2 In the case of the HSI (HERTZ) Foreign ERB Trademarks:   2.2.1 HSI will retain ownership and will grant a royalty-free, non-exclusive license to HERC to use the HSI (HERTZ) Foreign ERB Trademarks (those foreign trademarks owned by HSI related to the ERB that incorporate the mark/name HERTZ) as set forth on Schedule A, for the Interim Period, outside the United States and Puerto Rico, as more fully set forth in the Trademark, Trade Name, Domain and Related Rights License Agreement attached as Exhibit A. HERC shall immediately discontinue use of the HSI (HERTZ) Foreign ERB Trademarks upon expiration of the Interim Period, or the earlier termination of this Agreement or the Trademark, Trade Name, Domain and Related Rights License Agreement.   2.3 In the case of the HSI (HERTZ) US ERB Trademarks:   2.3.1 HSI will retain ownership and will grant a royalty-free, non-exclusive, license to HERC to use the HSI (HERTZ) US ERB Trademarks (those US trademarks   3', start_char_idx=6233, end_char_idx=7910, text_template='{metadata_str}\\n\\n{content}', metadata_template='{key}: {value}', metadata_seperator='\\n'), score=1000.0), NodeWithScore(node=TextNode(id_='39f11968-f475-483c-a0f8-9fb93a1c7816', embedding=None, metadata={'kg_rel_texts': [\"('Certificates of insurance', 'Herc agrees to furnish', 'Evidencing same within thirty (30')\", \"('Thc', 'Has permission to use', 'Hertz and hertz-formative domain names for equipment rental business')\", \"('Thc', 'Has permission to use', 'Non-hertz-formative domain names for equipment rental business')\", \"('Interim period', 'Is the period during which', 'Herc may use thc hertz erb domains')\", \"('Agreement', 'Is', 'Intellectual property agreement')\"], 'kg_rel_map': {}}, excluded_embed_metadata_keys=['kg_rel_map', 'kg_rel_texts'], excluded_llm_metadata_keys=['kg_rel_map', 'kg_rel_texts'], relationships={}, text=\"The following are knowledge sequence in max depth 30 in the form of directed graph like:\\n`subject -[predicate]->, object, <-[predicate_next_hop]-, object_next_hop ...`\\n('Certificates of insurance', 'Herc agrees to furnish', 'Evidencing same within thirty (30')\\n('Thc', 'Has permission to use', 'Hertz and hertz-formative domain names for equipment rental business')\\n('Thc', 'Has permission to use', 'Non-hertz-formative domain names for equipment rental business')\\n('Interim period', 'Is the period during which', 'Herc may use thc hertz erb domains')\\n('Agreement', 'Is', 'Intellectual property agreement')\", start_char_idx=None, end_char_idx=None, text_template='{metadata_str}\\n\\n{content}', metadata_template='{key}: {value}', metadata_seperator='\\n'), score=1000.0)], metadata={'f21133d5-4fd5-4874-ac8e-1c6b6a41204e': {'file_path': '/Users/jalal/Documents/projects/KGRAG/data_test/HERTZGLOBALHOLDINGS,INC_07_07_2016-EX-10.4-INTELLECTUAL PROPERTY AGREEMENT.txt', 'file_name': 'HERTZGLOBALHOLDINGS,INC_07_07_2016-EX-10.4-INTELLECTUAL PROPERTY AGREEMENT.txt', 'file_type': 'text/plain', 'file_size': 30968, 'creation_date': '2024-05-20', 'last_modified_date': '2024-05-20'}, '3c7694e9-1ac8-4ffd-8377-2f28d0cc26e6': {'file_path': '/Users/jalal/Documents/projects/KGRAG/data_test/HERTZGLOBALHOLDINGS,INC_07_07_2016-EX-10.4-INTELLECTUAL PROPERTY AGREEMENT.txt', 'file_name': 'HERTZGLOBALHOLDINGS,INC_07_07_2016-EX-10.4-INTELLECTUAL PROPERTY AGREEMENT.txt', 'file_type': 'text/plain', 'file_size': 30968, 'creation_date': '2024-05-20', 'last_modified_date': '2024-05-20'}, '79b0576b-9aea-4e94-813f-6dc3ed33a609': {'file_path': '/Users/jalal/Documents/projects/KGRAG/data_test/HERTZGLOBALHOLDINGS,INC_07_07_2016-EX-10.4-INTELLECTUAL PROPERTY AGREEMENT.txt', 'file_name': 'HERTZGLOBALHOLDINGS,INC_07_07_2016-EX-10.4-INTELLECTUAL PROPERTY AGREEMENT.txt', 'file_type': 'text/plain', 'file_size': 30968, 'creation_date': '2024-05-20', 'last_modified_date': '2024-05-20'}, 'ea128737-05ab-4c14-a310-2636c5bb17f1': {'file_path': '/Users/jalal/Documents/projects/KGRAG/data_test/HERTZGLOBALHOLDINGS,INC_07_07_2016-EX-10.4-INTELLECTUAL PROPERTY AGREEMENT.txt', 'file_name': 'HERTZGLOBALHOLDINGS,INC_07_07_2016-EX-10.4-INTELLECTUAL PROPERTY AGREEMENT.txt', 'file_type': 'text/plain', 'file_size': 30968, 'creation_date': '2024-05-20', 'last_modified_date': '2024-05-20'}, 'b3832943-a906-4973-b361-665e9f5f96f2': {'file_path': '/Users/jalal/Documents/projects/KGRAG/data_test/HERTZGLOBALHOLDINGS,INC_07_07_2016-EX-10.4-INTELLECTUAL PROPERTY AGREEMENT.txt', 'file_name': 'HERTZGLOBALHOLDINGS,INC_07_07_2016-EX-10.4-INTELLECTUAL PROPERTY AGREEMENT.txt', 'file_type': 'text/plain', 'file_size': 30968, 'creation_date': '2024-05-20', 'last_modified_date': '2024-05-20'}, '1581ab93-b926-4a19-8002-7bbdb05ac405': {'file_path': '/Users/jalal/Documents/projects/KGRAG/data_test/HERTZGLOBALHOLDINGS,INC_07_07_2016-EX-10.4-INTELLECTUAL PROPERTY AGREEMENT.txt', 'file_name': 'HERTZGLOBALHOLDINGS,INC_07_07_2016-EX-10.4-INTELLECTUAL PROPERTY AGREEMENT.txt', 'file_type': 'text/plain', 'file_size': 30968, 'creation_date': '2024-05-20', 'last_modified_date': '2024-05-20'}, 'b666468f-7046-4324-bc0e-0acbe7a7b92a': {'file_path': '/Users/jalal/Documents/projects/KGRAG/data_test/HERTZGLOBALHOLDINGS,INC_07_07_2016-EX-10.4-INTELLECTUAL PROPERTY AGREEMENT.txt', 'file_name': 'HERTZGLOBALHOLDINGS,INC_07_07_2016-EX-10.4-INTELLECTUAL PROPERTY AGREEMENT.txt', 'file_type': 'text/plain', 'file_size': 30968, 'creation_date': '2024-05-20', 'last_modified_date': '2024-05-20'}, '1db7213f-7978-4c7f-9a7c-a6850929a5cb': {'file_path': '/Users/jalal/Documents/projects/KGRAG/data_test/HERTZGLOBALHOLDINGS,INC_07_07_2016-EX-10.4-INTELLECTUAL PROPERTY AGREEMENT.txt', 'file_name': 'HERTZGLOBALHOLDINGS,INC_07_07_2016-EX-10.4-INTELLECTUAL PROPERTY AGREEMENT.txt', 'file_type': 'text/plain', 'file_size': 30968, 'creation_date': '2024-05-20', 'last_modified_date': '2024-05-20'}, 'dae79f5c-bc08-4fc0-be18-4e614c0ad823': {'file_path': '/Users/jalal/Documents/projects/KGRAG/data_test/HERTZGLOBALHOLDINGS,INC_07_07_2016-EX-10.4-INTELLECTUAL PROPERTY AGREEMENT.txt', 'file_name': 'HERTZGLOBALHOLDINGS,INC_07_07_2016-EX-10.4-INTELLECTUAL PROPERTY AGREEMENT.txt', 'file_type': 'text/plain', 'file_size': 30968, 'creation_date': '2024-05-20', 'last_modified_date': '2024-05-20'}, '753a3cce-9b95-46d6-b036-edb4fd4d1d24': {'file_path': '/Users/jalal/Documents/projects/KGRAG/data_test/HERTZGLOBALHOLDINGS,INC_07_07_2016-EX-10.4-INTELLECTUAL PROPERTY AGREEMENT.txt', 'file_name': 'HERTZGLOBALHOLDINGS,INC_07_07_2016-EX-10.4-INTELLECTUAL PROPERTY AGREEMENT.txt', 'file_type': 'text/plain', 'file_size': 30968, 'creation_date': '2024-05-20', 'last_modified_date': '2024-05-20'}, '39f11968-f475-483c-a0f8-9fb93a1c7816': {'kg_rel_texts': [\"('Certificates of insurance', 'Herc agrees to furnish', 'Evidencing same within thirty (30')\", \"('Thc', 'Has permission to use', 'Hertz and hertz-formative domain names for equipment rental business')\", \"('Thc', 'Has permission to use', 'Non-hertz-formative domain names for equipment rental business')\", \"('Interim period', 'Is the period during which', 'Herc may use thc hertz erb domains')\", \"('Agreement', 'Is', 'Intellectual property agreement')\"], 'kg_rel_map': {}}})"
      ]
     },
     "execution_count": 111,
     "metadata": {},
     "output_type": "execute_result"
    }
   ],
   "source": [
    "response"
   ]
  },
  {
   "cell_type": "code",
   "execution_count": 112,
   "metadata": {
    "colab": {
     "base_uri": "https://localhost:8080/",
     "height": 46
    },
    "id": "NTz7lpKWhWrt",
    "outputId": "3d21c3f0-1d74-492c-db06-519a2142efd0"
   },
   "outputs": [
    {
     "data": {
      "text/markdown": [
       "<b>The effective date is not explicitly mentioned in the provided text. However, based on the context, it can be inferred that the agreement was signed or executed on July 7, 2016.</b>"
      ],
      "text/plain": [
       "<IPython.core.display.Markdown object>"
      ]
     },
     "metadata": {},
     "output_type": "display_data"
    }
   ],
   "source": [
    "display(Markdown(f\"<b>{response}</b>\"))\n"
   ]
  },
  {
   "cell_type": "code",
   "execution_count": 82,
   "metadata": {
    "colab": {
     "base_uri": "https://localhost:8080/",
     "height": 639
    },
    "id": "tME6WcDmh1Rr",
    "outputId": "e57eef12-dbca-4dbd-ab9d-26717936b1fb"
   },
   "outputs": [
    {
     "name": "stdout",
     "output_type": "stream",
     "text": [
      "example.html\n"
     ]
    },
    {
     "data": {
      "text/html": [
       "\n",
       "        <iframe\n",
       "            width=\"100%\"\n",
       "            height=\"600px\"\n",
       "            src=\"example.html\"\n",
       "            frameborder=\"0\"\n",
       "            allowfullscreen\n",
       "            \n",
       "        ></iframe>\n",
       "        "
      ],
      "text/plain": [
       "<IPython.lib.display.IFrame at 0x1095b6790>"
      ]
     },
     "execution_count": 82,
     "metadata": {},
     "output_type": "execute_result"
    }
   ],
   "source": [
    "## create graph\n",
    "from pyvis.network import Network\n",
    "\n",
    "g = index.get_networkx_graph()\n",
    "net = Network(notebook=True, cdn_resources=\"in_line\", directed=True)\n",
    "net.from_nx(g)\n",
    "net.show(\"example.html\")"
   ]
  }
 ],
 "metadata": {
  "colab": {
   "provenance": []
  },
  "kernelspec": {
   "display_name": "Python 3 (ipykernel)",
   "language": "python",
   "name": "python3"
  },
  "language_info": {
   "codemirror_mode": {
    "name": "ipython",
    "version": 3
   },
   "file_extension": ".py",
   "mimetype": "text/x-python",
   "name": "python",
   "nbconvert_exporter": "python",
   "pygments_lexer": "ipython3",
   "version": "3.11.8"
  }
 },
 "nbformat": 4,
 "nbformat_minor": 4
}
